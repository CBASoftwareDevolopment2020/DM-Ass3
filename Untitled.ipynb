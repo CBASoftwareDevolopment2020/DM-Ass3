{
 "cells": [
  {
   "cell_type": "code",
   "execution_count": 1,
   "metadata": {
    "ExecuteTime": {
     "end_time": "2020-10-01T08:32:16.409191Z",
     "start_time": "2020-10-01T08:32:16.380190Z"
    },
    "scrolled": false
   },
   "outputs": [],
   "source": [
    "import sys\n",
    "\n",
    "bound = 100\n",
    "# bound = sys.maxsize\n",
    "\n",
    "\n",
    "class RangeSet:\n",
    "    def __init__(self, lower=-bound, upper=bound):\n",
    "        self.n_inf = True if lower < -bound else False\n",
    "        self.p_inf = True if upper > bound else False\n",
    "        self.lower = -bound if self.n_inf else lower\n",
    "        self.upper = bound if self.p_inf else upper\n",
    "        self.s = list(x for x in range(lower, upper + 1))\n",
    "\n",
    "    def __repr__(self):\n",
    "        return str(self.s)\n",
    "\n",
    "    def is_member(self, e):\n",
    "        return self.lower <= e <= self.upper\n",
    "\n",
    "    def union(self, s):\n",
    "        res = []\n",
    "        i = j = 0\n",
    "        while i < len(self.s) and j < len(s):\n",
    "            if self.s[i] == s[j]:\n",
    "                res.append(s[j])\n",
    "                i, j = i + 1, j + 1\n",
    "            elif self.s[i] < s[j]:\n",
    "                res.append(self.s[i])\n",
    "                i += 1\n",
    "            elif self.s[i] > s[j]:\n",
    "                res.append(s[j])\n",
    "                j += 1\n",
    "        return res + self.s[i:] + s[j:]\n",
    "\n",
    "    def intersection(self, s):\n",
    "        res = []\n",
    "        i = j = 0\n",
    "        while i < len(self.s) and j < len(s):\n",
    "            if self.s[i] == s[j]:\n",
    "                res.append(s[j])\n",
    "                i, j = i + 1, j + 1\n",
    "            elif self.s[i] < s[j]:\n",
    "                i += 1\n",
    "            elif self.s[i] > s[j]:\n",
    "                j += 1\n",
    "        return res\n",
    "\n",
    "    def difference(self, s):\n",
    "        res = []\n",
    "        i = j = 0\n",
    "        while i < len(self.s) and j < len(s):\n",
    "            if self.s[i] == s[j]:\n",
    "                i, j = i + 1, j + 1\n",
    "            elif self.s[i] < s[j]:\n",
    "                res.append(self.s[i])\n",
    "                i += 1\n",
    "            elif self.s[i] > s[j]:\n",
    "                j += 1\n",
    "        return res + self.s[i:]\n",
    "\n",
    "    def complement(self):\n",
    "        res = []\n",
    "        universe = list(range(-bound, bound + 1))\n",
    "        i = j = 0\n",
    "        while i < len(self.s) and j < len(universe):\n",
    "            if self.s[i] == universe[j]:\n",
    "                i, j = i + 1, j + 1\n",
    "            elif self.s[i] < universe[j]:\n",
    "                i += 1\n",
    "            elif self.s[i] > universe[j]:\n",
    "                res.append(universe[j])\n",
    "                j += 1\n",
    "        return res + universe[j:]\n",
    "\n",
    "    def compare_to(self, other):\n",
    "        if len(self.s) == 0:\n",
    "            if len(other) == 0:\n",
    "                return 0\n",
    "            else:\n",
    "                return -1\n",
    "        if len(other) == 0:\n",
    "            return 1\n",
    "\n",
    "        if len(self.s) < len(other):\n",
    "            if all([n in other for n in self.s]):\n",
    "                return -1\n",
    "            else:\n",
    "                return -2\n",
    "\n",
    "        elif len(self.s) > len(other):\n",
    "            if all([n in self.s for n in other]):\n",
    "                return 1\n",
    "            else:\n",
    "                return -2\n",
    "\n",
    "        else:\n",
    "            for x,y in zip(self.s, other):\n",
    "                if x != y:\n",
    "                    return -2\n",
    "            else: return 0"
   ]
  },
  {
   "cell_type": "code",
   "execution_count": 9,
   "metadata": {
    "ExecuteTime": {
     "end_time": "2020-10-01T08:34:57.315395Z",
     "start_time": "2020-10-01T08:34:57.304394Z"
    }
   },
   "outputs": [
    {
     "name": "stdout",
     "output_type": "stream",
     "text": [
      "sets\n",
      "[-15, -14, -13, -12, -11, -10, -9, -8, -7, -6, -5, -4, -3, -2, -1, 0, 1, 2, 3, 4, 5, 6, 7, 8, 9, 10, 11, 12, 13, 14, 15]\n",
      "[-10, -9, -8, -7, -6, -5, -4, -3, -2, -1, 0, 1, 2, 3, 4, 5, 6, 7, 8, 9, 10]\n",
      "[-5, -4, -3, -2, -1, 0, 1, 2, 3, 4, 5]\n",
      "is_member\n",
      "False\n",
      "True\n",
      "union\n",
      "[-15, -14, -13, -12, -11, -10, -9, -8, -7, -6, -5, -4, -3, -2, -1, 0, 1, 2, 3, 4, 5, 6, 7, 8, 9, 10, 11, 12, 13, 14, 15]\n",
      "[-15, -14, -13, -12, -11, -10, -9, -8, -7, -6, -5, -4, -3, -2, -1, 0, 1, 2, 3, 4, 5, 6, 7, 8, 9, 10, 11, 12, 13, 14, 15]\n",
      "intersection\n",
      "[-10, -9, -8, -7, -6, -5, -4, -3, -2, -1, 0, 1, 2, 3, 4, 5, 6, 7, 8, 9, 10]\n",
      "[-5, -4, -3, -2, -1, 0, 1, 2, 3, 4, 5]\n",
      "difference\n",
      "[-15, -14, -13, -12, -11, 11, 12, 13, 14, 15]\n",
      "[-15, -14, -13, -12, -11, -10, -9, -8, -7, -6, 6, 7, 8, 9, 10, 11, 12, 13, 14, 15]\n",
      "complement\n",
      "[-100, -99, -98, -97, -96, -95, -94, -93, -92, -91, -90, -89, -88, -87, -86, -85, -84, -83, -82, -81, -80, -79, -78, -77, -76, -75, -74, -73, -72, -71, -70, -69, -68, -67, -66, -65, -64, -63, -62, -61, -60, -59, -58, -57, -56, -55, -54, -53, -52, -51, -50, -49, -48, -47, -46, -45, -44, -43, -42, -41, -40, -39, -38, -37, -36, -35, -34, -33, -32, -31, -30, -29, -28, -27, -26, -25, -24, -23, -22, -21, -20, -19, -18, -17, -16, 16, 17, 18, 19, 20, 21, 22, 23, 24, 25, 26, 27, 28, 29, 30, 31, 32, 33, 34, 35, 36, 37, 38, 39, 40, 41, 42, 43, 44, 45, 46, 47, 48, 49, 50, 51, 52, 53, 54, 55, 56, 57, 58, 59, 60, 61, 62, 63, 64, 65, 66, 67, 68, 69, 70, 71, 72, 73, 74, 75, 76, 77, 78, 79, 80, 81, 82, 83, 84, 85, 86, 87, 88, 89, 90, 91, 92, 93, 94, 95, 96, 97, 98, 99, 100]\n",
      "[-100, -99, -98, -97, -96, -95, -94, -93, -92, -91, -90, -89, -88, -87, -86, -85, -84, -83, -82, -81, -80, -79, -78, -77, -76, -75, -74, -73, -72, -71, -70, -69, -68, -67, -66, -65, -64, -63, -62, -61, -60, -59, -58, -57, -56, -55, -54, -53, -52, -51, -50, -49, -48, -47, -46, -45, -44, -43, -42, -41, -40, -39, -38, -37, -36, -35, -34, -33, -32, -31, -30, -29, -28, -27, -26, -25, -24, -23, -22, -21, -20, -19, -18, -17, -16, -15, -14, -13, -12, -11, 11, 12, 13, 14, 15, 16, 17, 18, 19, 20, 21, 22, 23, 24, 25, 26, 27, 28, 29, 30, 31, 32, 33, 34, 35, 36, 37, 38, 39, 40, 41, 42, 43, 44, 45, 46, 47, 48, 49, 50, 51, 52, 53, 54, 55, 56, 57, 58, 59, 60, 61, 62, 63, 64, 65, 66, 67, 68, 69, 70, 71, 72, 73, 74, 75, 76, 77, 78, 79, 80, 81, 82, 83, 84, 85, 86, 87, 88, 89, 90, 91, 92, 93, 94, 95, 96, 97, 98, 99, 100]\n",
      "compare\n",
      "-1\n",
      "0\n",
      "1\n",
      "-2\n"
     ]
    }
   ],
   "source": [
    "s = RangeSet(-15, 15)\n",
    "t = RangeSet(-10, 10)\n",
    "u = RangeSet(-5, 5)\n",
    "print('sets')\n",
    "print(s, t, u, sep='\\n')\n",
    "print('is_member')\n",
    "print(s.is_member(20))\n",
    "print(s.is_member(15))\n",
    "print('union')\n",
    "print(s.union(t.s))\n",
    "print(s.union(u.s))\n",
    "print('intersection')\n",
    "print(s.intersection(t.s))\n",
    "print(s.intersection(u.s))\n",
    "print('difference')\n",
    "print(s.difference(t.s))\n",
    "print(s.difference(u.s))\n",
    "print('complement')\n",
    "print(s.complement())\n",
    "print(t.complement())\n",
    "print('compare')\n",
    "print(t.compare_to(s.s))\n",
    "print(t.compare_to(t.s))\n",
    "print(t.compare_to(u.s))\n",
    "print(s.compare_to(list(range(0,30))))"
   ]
  }
 ],
 "metadata": {
  "kernelspec": {
   "display_name": "Python 3",
   "language": "python",
   "name": "python3"
  },
  "language_info": {
   "codemirror_mode": {
    "name": "ipython",
    "version": 3
   },
   "file_extension": ".py",
   "mimetype": "text/x-python",
   "name": "python",
   "nbconvert_exporter": "python",
   "pygments_lexer": "ipython3",
   "version": "3.7.7"
  },
  "varInspector": {
   "cols": {
    "lenName": 16,
    "lenType": 16,
    "lenVar": 40
   },
   "kernels_config": {
    "python": {
     "delete_cmd_postfix": "",
     "delete_cmd_prefix": "del ",
     "library": "var_list.py",
     "varRefreshCmd": "print(var_dic_list())"
    },
    "r": {
     "delete_cmd_postfix": ") ",
     "delete_cmd_prefix": "rm(",
     "library": "var_list.r",
     "varRefreshCmd": "cat(var_dic_list()) "
    }
   },
   "types_to_exclude": [
    "module",
    "function",
    "builtin_function_or_method",
    "instance",
    "_Feature"
   ],
   "window_display": false
  }
 },
 "nbformat": 4,
 "nbformat_minor": 2
}
